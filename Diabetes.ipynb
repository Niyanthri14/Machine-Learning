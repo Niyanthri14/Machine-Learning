{
  "nbformat": 4,
  "nbformat_minor": 0,
  "metadata": {
    "colab": {
      "provenance": []
    },
    "kernelspec": {
      "name": "python3",
      "display_name": "Python 3"
    },
    "language_info": {
      "name": "python"
    }
  },
  "cells": [
    {
      "cell_type": "code",
      "execution_count": null,
      "metadata": {
        "colab": {
          "base_uri": "https://localhost:8080/"
        },
        "id": "YlobEkwVN1z1",
        "outputId": "83b5531f-cfed-4e78-b4e4-086f3724bde3"
      },
      "outputs": [
        {
          "output_type": "stream",
          "name": "stdout",
          "text": [
            "Enter your blood glucose level: 40\n",
            "Enter your blood pressure: 85\n",
            "Negative for diabetes\n"
          ]
        }
      ],
      "source": [
        "import pandas as pd\n",
        "from sklearn.model_selection import train_test_split\n",
        "from sklearn.naive_bayes import GaussianNB\n",
        "\n",
        "# Load the data\n",
        "df = pd.read_csv(\"diabetes.csv\")\n",
        "\n",
        "# Split the data into features and target\n",
        "x=df.drop('diabetes',axis=1)\n",
        "y=df['diabetes']\n",
        "# Split the data into training and test sets\n",
        "x_train, x_test, y_train, y_test = train_test_split(x, y, test_size=0.2)\n",
        "\n",
        "# Create a Gaussian Naive Bayes model\n",
        "model = GaussianNB()\n",
        "\n",
        "# Train the model\n",
        "model.fit(x_train, y_train)\n",
        "\n",
        "# Get user input for blood glucose levels and blood pressure\n",
        "glucose = float(input('Enter your blood glucose level: '))\n",
        "pressure = float(input('Enter your blood pressure: '))\n",
        "\n",
        "# Create a new data point with the user's input\n",
        "new_data = pd.DataFrame([[glucose, pressure]], columns=['glucose', 'bloodpressure'])\n",
        "\n",
        "# Make a prediction for the new data point\n",
        "prediction = model.predict(new_data)\n",
        "\n",
        "if prediction[0] == 0:\n",
        "    print('Negative for diabetes')\n",
        "else:\n",
        "    print('Positive for diabetes')"
      ]
    },
    {
      "cell_type": "code",
      "source": [
        "import pandas as pd\n",
        "from sklearn.model_selection import train_test_split\n",
        "from sklearn.tree import DecisionTreeClassifier\n",
        "\n",
        "# Load the data\n",
        "data = pd.read_csv('diabetes.csv')\n",
        "\n",
        "# Split the data into features and target\n",
        "X = data.drop('diabetes', axis=1)\n",
        "y = data['diabetes']\n",
        "\n",
        "# Split the data into training and test sets\n",
        "X_train, X_test, y_train, y_test = train_test_split(X, y, test_size=0.2)\n",
        "\n",
        "# Create a Decision Tree model\n",
        "model = DecisionTreeClassifier()\n",
        "\n",
        "# Train the model\n",
        "model.fit(X_train, y_train)\n",
        "\n",
        "# Get user input for blood glucose levels and blood pressure\n",
        "glucose = float(input('Enter your blood glucose level: '))\n",
        "pressure = float(input('Enter your blood pressure: '))\n",
        "\n",
        "# Create a new data point with the user's input\n",
        "new_data = pd.DataFrame([[glucose, pressure]], columns=['glucose', 'bloodpressure'])\n",
        "\n",
        "# Make a prediction for the new data point\n",
        "prediction = model.predict(new_data)\n",
        "\n",
        "if prediction[0] == 0:\n",
        "    print('Negative for diabetes')\n",
        "else:\n",
        "    print('Positive for diabetes')"
      ],
      "metadata": {
        "colab": {
          "base_uri": "https://localhost:8080/"
        },
        "id": "TovZOhDuORy0",
        "outputId": "496caee4-daa8-450c-b943-e286412e3026"
      },
      "execution_count": null,
      "outputs": [
        {
          "output_type": "stream",
          "name": "stdout",
          "text": [
            "Enter your blood glucose level: 40\n",
            "Enter your blood pressure: 65\n",
            "Positive for diabetes\n"
          ]
        }
      ]
    }
  ]
}